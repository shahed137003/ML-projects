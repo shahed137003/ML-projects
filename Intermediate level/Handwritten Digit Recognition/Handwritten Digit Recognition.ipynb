{
 "cells": [
  {
   "cell_type": "markdown",
   "id": "8e430935",
   "metadata": {},
   "source": [
    "# 🖊️ Handwritten Digit Recognition\n",
    "\n",
    "## 📌 Project Description  \n",
    "Handwritten Digit Recognition is a **Deep Learning** project that aims to automatically identify digits (0–9) from images of handwritten numbers.  \n",
    "The project uses the **MNIST dataset**, which contains 70,000 grayscale images of handwritten digits (28×28 pixels each).  \n",
    "\n",
    "---\n",
    "\n",
    "## 🎯 Objectives  \n",
    "- Build and train a neural network for digit classification.  \n",
    "- Compare accuracy between traditional ML and deep learning models.  \n",
    "- Evaluate model performance using accuracy and confusion matrix.  \n",
    "\n",
    "---\n",
    "\n",
    "## 🛠️ Tools & Frameworks  \n",
    "- Python 🐍  \n",
    "- TensorFlow / Keras or PyTorch  \n",
    "- NumPy & Pandas  \n",
    "- Matplotlib / Seaborn  \n",
    "\n",
    "---\n",
    "\n",
    "## 🚀 Workflow  \n",
    "1. **Data Collection** → Load MNIST dataset.  \n",
    "2. **Preprocessing** → Normalize pixel values, reshape images.  \n",
    "3. **Model Building** → ANN or CNN architecture.  \n",
    "4. **Training** → Train the model on training data.  \n",
    "5. **Evaluation** → Test accuracy on unseen data.  \n",
    "6. **Prediction** → Recognize digits from new images.  \n",
    "\n",
    "---\n",
    "\n",
    "## 📊 Expected Results  \n",
    "- Accuracy ~98% using CNN.  \n",
    "- Correct classification of handwritten digits.  \n",
    "- Visualization of misclassified samples.  \n",
    "\n",
    "---\n",
    "\n",
    "## 🌟 Applications  \n",
    "- Postal code recognition.  \n",
    "- Bank cheque digit processing.  \n",
    "- Automated form digitization.  \n",
    "- Introductory project for **deep learning & computer vision**.  \n"
   ]
  },
  {
   "cell_type": "code",
   "execution_count": 1,
   "id": "508e656c",
   "metadata": {},
   "outputs": [],
   "source": [
    "import tensorflow as tf \n",
    "from tensorflow import keras \n",
    "import pandas as pd \n",
    "import numpy as np \n",
    "import matplotlib.pyplot as plt \n"
   ]
  },
  {
   "cell_type": "code",
   "execution_count": 2,
   "id": "3e586996",
   "metadata": {},
   "outputs": [
    {
     "name": "stdout",
     "output_type": "stream",
     "text": [
      "Downloading data from https://storage.googleapis.com/tensorflow/tf-keras-datasets/mnist.npz\n",
      "\u001b[1m11490434/11490434\u001b[0m \u001b[32m━━━━━━━━━━━━━━━━━━━━\u001b[0m\u001b[37m\u001b[0m \u001b[1m4s\u001b[0m 0us/step\n",
      "Train data shape: (60000, 28, 28)\n",
      "Test data shape: (10000, 28, 28)\n"
     ]
    }
   ],
   "source": [
    "\n",
    "from tensorflow.keras.datasets import mnist\n",
    "\n",
    "# Load MNIST dataset\n",
    "(X_train, Y_train), (X_test, Y_test) = mnist.load_data()\n",
    "\n",
    "print(\"Train data shape:\", X_train.shape)\n",
    "print(\"Test data shape:\", X_test.shape)"
   ]
  },
  {
   "cell_type": "code",
   "execution_count": 4,
   "id": "d39032ce",
   "metadata": {},
   "outputs": [
    {
     "data": {
      "image/png": "[encoded data removed]",
      "text/plain": [
       "<Figure size 480x480 with 1 Axes>"
      ]
     },
     "metadata": {},
     "output_type": "display_data"
    }
   ],
   "source": [
    "plt.matshow(X_train[0]);\n"
   ]
  },
  {
   "cell_type": "code",
   "execution_count": 5,
   "id": "92e472e3",
   "metadata": {},
   "outputs": [
    {
     "data": {
      "text/plain": [
       "(60000, 28, 28)"
      ]
     },
     "execution_count": 5,
     "metadata": {},
     "output_type": "execute_result"
    }
   ],
   "source": [
    "X_train.shape"
   ]
  },
  {
   "cell_type": "code",
   "execution_count": 7,
   "id": "612c5a4a",
   "metadata": {},
   "outputs": [],
   "source": [
    "X_train_flattened=X_train.reshape(60000,28*28)\n",
    "X_test_flattened=X_test.reshape(10000,28*28)"
   ]
  },
  {
   "cell_type": "code",
   "execution_count": 9,
   "id": "84e33409",
   "metadata": {},
   "outputs": [
    {
     "data": {
      "text/plain": [
       "(784,)"
      ]
     },
     "execution_count": 9,
     "metadata": {},
     "output_type": "execute_result"
    }
   ],
   "source": [
    "X_test_flattened[0].shape"
   ]
  },
  {
   "cell_type": "code",
   "execution_count": null,
   "id": "ff9971bd",
   "metadata": {},
   "outputs": [],
   "source": [
    "## normalizing the image for each pixel \n",
    "X_train_flattened=X_train_flattened/255\n",
    "X_test_flattened=X_test_flattened/255\n"
   ]
  },
  {
   "cell_type": "code",
   "execution_count": 15,
   "id": "78d47f03",
   "metadata": {},
   "outputs": [
    {
     "name": "stdout",
     "output_type": "stream",
     "text": [
      "Epoch 1/5\n",
      "\u001b[1m1875/1875\u001b[0m \u001b[32m━━━━━━━━━━━━━━━━━━━━\u001b[0m\u001b[37m\u001b[0m \u001b[1m4s\u001b[0m 2ms/step - accuracy: 0.8779 - loss: 0.4692\n",
      "Epoch 2/5\n",
      "\u001b[1m1875/1875\u001b[0m \u001b[32m━━━━━━━━━━━━━━━━━━━━\u001b[0m\u001b[37m\u001b[0m \u001b[1m3s\u001b[0m 2ms/step - accuracy: 0.9151 - loss: 0.3034\n",
      "Epoch 3/5\n",
      "\u001b[1m1875/1875\u001b[0m \u001b[32m━━━━━━━━━━━━━━━━━━━━\u001b[0m\u001b[37m\u001b[0m \u001b[1m3s\u001b[0m 2ms/step - accuracy: 0.9206 - loss: 0.2834\n",
      "Epoch 4/5\n",
      "\u001b[1m1875/1875\u001b[0m \u001b[32m━━━━━━━━━━━━━━━━━━━━\u001b[0m\u001b[37m\u001b[0m \u001b[1m3s\u001b[0m 2ms/step - accuracy: 0.9237 - loss: 0.2730\n",
      "Epoch 5/5\n",
      "\u001b[1m1875/1875\u001b[0m \u001b[32m━━━━━━━━━━━━━━━━━━━━\u001b[0m\u001b[37m\u001b[0m \u001b[1m3s\u001b[0m 2ms/step - accuracy: 0.9261 - loss: 0.2668\n"
     ]
    },
    {
     "data": {
      "text/plain": [
       "<keras.src.callbacks.history.History at 0x1793581e810>"
      ]
     },
     "execution_count": 15,
     "metadata": {},
     "output_type": "execute_result"
    }
   ],
   "source": [
    "## lets create the mode\n",
    "model=keras.Sequential(\n",
    "    [keras.layers.Dense(10, input_shape=(784,),activation='sigmoid')]  ## only one layer \n",
    "    \n",
    ")\n",
    "\n",
    "model.compile(\n",
    "   optimizer='adam' ,\n",
    "   loss='sparse_categorical_crossentropy',\n",
    "   metrics=['accuracy']\n",
    ")\n",
    "\n",
    "model.fit(X_train_flattened,Y_train, epochs=5)"
   ]
  },
  {
   "cell_type": "code",
   "execution_count": 16,
   "id": "ce2bd971",
   "metadata": {},
   "outputs": [
    {
     "name": "stdout",
     "output_type": "stream",
     "text": [
      "\u001b[1m313/313\u001b[0m \u001b[32m━━━━━━━━━━━━━━━━━━━━\u001b[0m\u001b[37m\u001b[0m \u001b[1m1s\u001b[0m 1ms/step - accuracy: 0.9259 - loss: 0.2686\n"
     ]
    },
    {
     "data": {
      "text/plain": [
       "[0.2686474323272705, 0.9258999824523926]"
      ]
     },
     "execution_count": 16,
     "metadata": {},
     "output_type": "execute_result"
    }
   ],
   "source": [
    "model.evaluate(X_test_flattened,Y_test)"
   ]
  },
  {
   "cell_type": "code",
   "execution_count": 17,
   "id": "d7ad8ec1",
   "metadata": {},
   "outputs": [
    {
     "name": "stdout",
     "output_type": "stream",
     "text": [
      "\u001b[1m313/313\u001b[0m \u001b[32m━━━━━━━━━━━━━━━━━━━━\u001b[0m\u001b[37m\u001b[0m \u001b[1m0s\u001b[0m 1ms/step  \n"
     ]
    }
   ],
   "source": [
    "y_predict=model.predict(X_test_flattened)"
   ]
  },
  {
   "cell_type": "code",
   "execution_count": 23,
   "id": "67480d7b",
   "metadata": {},
   "outputs": [
    {
     "name": "stdout",
     "output_type": "stream",
     "text": [
      "\u001b[1m1/1\u001b[0m \u001b[32m━━━━━━━━━━━━━━━━━━━━\u001b[0m\u001b[37m\u001b[0m \u001b[1m0s\u001b[0m 40ms/step\n"
     ]
    },
    {
     "data": {
      "image/png": "[encoded data removed]",
      "text/plain": [
       "<Figure size 1000x400 with 3 Axes>"
      ]
     },
     "metadata": {},
     "output_type": "display_data"
    }
   ],
   "source": [
    "pred = model.predict(X_test_flattened[:3])\n",
    "\n",
    "fig, axes = plt.subplots(1, 3, figsize=(10, 4))  \n",
    "\n",
    "for i in range(3):\n",
    "    axes[i].imshow(X_test[i].reshape(28, 28), cmap=\"gray\")  \n",
    "    axes[i].set_title(f\"Predicted: {np.argmax(pred[i])}\")\n",
    "    axes[i].axis(\"off\")  \n",
    "\n",
    "plt.show()\n",
    "\n"
   ]
  }
 ],
 "metadata": {
  "kernelspec": {
   "display_name": "ML_inv",
   "language": "python",
   "name": "python3"
  },
  "language_info": {
   "codemirror_mode": {
    "name": "ipython",
    "version": 3
   },
   "file_extension": ".py",
   "mimetype": "text/x-python",
   "name": "python",
   "nbconvert_exporter": "python",
   "pygments_lexer": "ipython3",
   "version": "3.12.11"
  }
 },
 "nbformat": 4,
 "nbformat_minor": 5
}
